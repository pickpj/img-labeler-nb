{
 "cells": [
  {
   "cell_type": "markdown",
   "metadata": {},
   "source": [
    "## Dataset Labeler Tool \n",
    "A simple interface for categorizing images into labeled folders in ipynb. Useful for quickly prepping categorical image data for deep learning / ML.  \n",
    "Be sure to run each cell."
   ]
  },
  {
   "cell_type": "markdown",
   "metadata": {},
   "source": [
    "1️⃣. First create a list of the Categories to separate into.  \n",
    "<span style=\"font-size:0.8em;\">It may be helpful to include a \"Trash\" grouping for images that are outside of scope.</span>  "
   ]
  },
  {
   "cell_type": "code",
   "execution_count": null,
   "metadata": {
    "metadata": {}
   },
   "outputs": [],
   "source": [
    "categories = [\"Interior\", \"Exterior\", \"Trash\"]"
   ]
  },
  {
   "cell_type": "markdown",
   "metadata": {},
   "source": [
    "2️⃣. Select the input and output folders"
   ]
  },
  {
   "cell_type": "code",
   "execution_count": null,
   "metadata": {
    "metadata": {}
   },
   "outputs": [],
   "source": [
    "import ipywidgets as widgets\n",
    "import os\n",
    "input = widgets.Dropdown(options=[x for x in os.listdir() if \".\" not in x], # folders with \".\" are excluded\n",
    "                        description=\"Input folder:\",)\n",
    "output = widgets.Dropdown(options=[x for x in os.listdir() if \".\" not in x], # folders with \".\" are excluded\n",
    "                        description=\"Out Folder:\",)\n",
    "display(widgets.VBox([input, output]))"
   ]
  },
  {
   "cell_type": "markdown",
   "metadata": {},
   "source": [
    "3️⃣. Prepare output folders (creates folders for categories that are not present)"
   ]
  },
  {
   "cell_type": "code",
   "execution_count": null,
   "metadata": {
    "metadata": {}
   },
   "outputs": [],
   "source": [
    "for fold in [x for x in categories if x not in [x for x in os.listdir(output.value) if \".\" not in x]]:\n",
    "    os.mkdir(output.value + \"/\" + fold)"
   ]
  },
  {
   "cell_type": "markdown",
   "metadata": {},
   "source": [
    "4️⃣. Sort"
   ]
  },
  {
   "cell_type": "code",
   "execution_count": null,
   "metadata": {
    "metadata": {}
   },
   "outputs": [],
   "source": [
    "def nextpic():\n",
    "    global i\n",
    "    i+=1\n",
    "    imgframe.value = open(input.value + \"/\" + piclist[i],\"rb\").read()\n",
    "def send2folder(fold):\n",
    "    os.rename(input.value + \"/\" + piclist[i], output.value + \"/\" + fold + \"/\" + piclist[i])\n",
    "    nextpic()\n",
    "def oopsgoback1():\n",
    "    global i\n",
    "    i-=1\n",
    "    os.rename(output.value + \"/\" + fold + \"/\" + piclist[i], input.value + \"/\" + piclist[i])\n",
    "    imgframe.value = open(input.value + \"/\" + piclist[i],\"rb\").read()\n",
    "\n",
    "piclist = [x for x in os.listdir(input.value) if \".\" in x]\n",
    "global i\n",
    "i=0\n",
    "image0 = open(input.value + \"/\" + piclist[0],\"rb\").read()\n",
    "imgframe = widgets.Image(value=image0\n",
    "                        , width=300 \n",
    "                        # , height=300\n",
    "                        )\n",
    "butlist = [widgets.Button(description=cat, button_style=\"danger\") for cat in categories]\n",
    "[button.on_click(lambda x, i=cat: send2folder(i)) for button, cat in zip(butlist, categories)]\n",
    "\n",
    "oopsbutton = widgets.Button(description=\"Take me back\", button_style=\"warning\")\n",
    "oopsbutton.on_click(oopsgoback1())\n",
    "display(widgets.HBox(butlist), imgframe, oopsbutton)"
   ]
  },
  {
   "cell_type": "code",
   "execution_count": null,
   "metadata": {},
   "outputs": [],
   "source": []
  }
 ],
 "metadata": {
  "kernelspec": {
   "display_name": "Python 3",
   "language": "python",
   "name": "python3"
  },
  "language_info": {
   "codemirror_mode": {
    "name": "ipython",
    "version": 3
   },
   "file_extension": ".py",
   "mimetype": "text/x-python",
   "name": "python",
   "nbconvert_exporter": "python",
   "pygments_lexer": "ipython3",
   "version": "3.12.3"
  }
 },
 "nbformat": 4,
 "nbformat_minor": 2
}
